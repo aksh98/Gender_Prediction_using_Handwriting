{
  "nbformat": 4,
  "nbformat_minor": 0,
  "metadata": {
    "colab": {
      "name": "Gender_prediction_using_handwriting.ipynb",
      "version": "0.3.2",
      "provenance": []
    },
    "kernelspec": {
      "name": "python3",
      "display_name": "Python 3"
    }
  },
  "cells": [
    {
      "metadata": {
        "id": "p4oL812yXNF1",
        "colab_type": "code",
        "colab": {}
      },
      "cell_type": "code",
      "source": [
        "# !pip install kaggle"
      ],
      "execution_count": 0,
      "outputs": []
    },
    {
      "metadata": {
        "id": "su0u8e95aExK",
        "colab_type": "code",
        "colab": {}
      },
      "cell_type": "code",
      "source": [
        "# !export KAGGLE_USERNAME=aksh98\n",
        "# !export KAGGLE_KEY=260ed3247d4ea89457e054b1cb1b9892\n",
        "# {\"username\":\"aksh98\",\"key\":\"260ed3247d4ea89457e054b1cb1b9892\"}"
      ],
      "execution_count": 0,
      "outputs": []
    },
    {
      "metadata": {
        "id": "7dpJ1uKBYy1Y",
        "colab_type": "code",
        "colab": {}
      },
      "cell_type": "code",
      "source": [
        "# !kaggle competitions download -c icdar2013-gender-prediction-from-handwriting"
      ],
      "execution_count": 0,
      "outputs": []
    },
    {
      "metadata": {
        "id": "1j6-XfXzagny",
        "colab_type": "code",
        "colab": {}
      },
      "cell_type": "code",
      "source": [
        "##  Source: \n",
        "# https://www.researchgate.net/profile/Marcus_Liwicki/publication/228777858_Automatic_Detection_of_Gender_and_Handedness_from_On-Line_Handwriting/links/0c9605327ee2f4267f000000.pdf\n",
        "## \n",
        "\n",
        "# 2 Algorithms used:\n",
        "# SVM - Classification\n",
        "# GMM - Generative - to model the distribution of features of each class"
      ],
      "execution_count": 0,
      "outputs": []
    },
    {
      "metadata": {
        "id": "ugk0O75CKEPM",
        "colab_type": "code",
        "colab": {
          "base_uri": "https://localhost:8080/",
          "height": 34
        },
        "outputId": "655de28c-7360-4a43-be0e-d9db699d5d3e"
      },
      "cell_type": "code",
      "source": [
        "from sklearn import svm\n",
        "import pandas as pd\n",
        "import numpy as np\n",
        "import sklearn\n",
        "from pandas import DataFrame as df\n",
        "import matplotlib.pyplot as plt\n",
        "from sklearn.model_selection import train_test_split\n",
        "from sklearn.model_selection import GridSearchCV\n",
        "from sklearn.svm import SVC\n",
        "from sklearn.svm import SVR\n",
        "from sklearn.neural_network import MLPClassifier\n",
        "from sklearn.metrics import accuracy_score\n",
        "\n",
        "print(\"Done\")"
      ],
      "execution_count": 1,
      "outputs": [
        {
          "output_type": "stream",
          "text": [
            "Done\n"
          ],
          "name": "stdout"
        }
      ]
    },
    {
      "metadata": {
        "id": "exy5mtBeT4tc",
        "colab_type": "code",
        "colab": {
          "base_uri": "https://localhost:8080/",
          "height": 34
        },
        "outputId": "b73e5311-5ea1-4fe8-8087-7c7d03d0be92"
      },
      "cell_type": "code",
      "source": [
        "from google.colab import drive\n",
        "drive.mount('/content/drive')"
      ],
      "execution_count": 82,
      "outputs": [
        {
          "output_type": "stream",
          "text": [
            "Drive already mounted at /content/drive; to attempt to forcibly remount, call drive.mount(\"/content/drive\", force_remount=True).\n"
          ],
          "name": "stdout"
        }
      ]
    },
    {
      "metadata": {
        "id": "BVewCFtwUCpl",
        "colab_type": "code",
        "colab": {
          "base_uri": "https://localhost:8080/",
          "height": 187
        },
        "outputId": "c98ec549-afca-41ee-bea1-82c44b2643b2"
      },
      "cell_type": "code",
      "source": [
        "%cd drive/My Drive/Colab Notebooks\n",
        "%cd Assignments_sem7/\n",
        "!ls\n",
        "%cd IA_Project"
      ],
      "execution_count": 83,
      "outputs": [
        {
          "output_type": "stream",
          "text": [
            "[Errno 2] No such file or directory: 'drive/My Drive/Colab Notebooks'\n",
            "/content/drive/My Drive/Colab Notebooks/Assignments_sem7/IA_Project\n",
            "[Errno 2] No such file or directory: 'Assignments_sem7/'\n",
            "/content/drive/My Drive/Colab Notebooks/Assignments_sem7/IA_Project\n",
            "101_150  251_300  51_100\t\t\t\t     train_answers.csv\n",
            "1_50\t 301_350  Gender_prediction_using_handwriting.ipynb  train.csv\n",
            "151_200  401_450  test_answers.csv\n",
            "201_250  451_475  test.csv\n",
            "[Errno 2] No such file or directory: 'IA_Project'\n",
            "/content/drive/My Drive/Colab Notebooks/Assignments_sem7/IA_Project\n"
          ],
          "name": "stdout"
        }
      ]
    },
    {
      "metadata": {
        "id": "hpxy6TCuULWg",
        "colab_type": "code",
        "colab": {
          "base_uri": "https://localhost:8080/",
          "height": 85
        },
        "outputId": "c4ce6471-4ab4-46b5-ecd0-67ba64773f20"
      },
      "cell_type": "code",
      "source": [
        "!ls"
      ],
      "execution_count": 84,
      "outputs": [
        {
          "output_type": "stream",
          "text": [
            "101_150  251_300  51_100\t\t\t\t     train_answers.csv\n",
            "1_50\t 301_350  Gender_prediction_using_handwriting.ipynb  train.csv\n",
            "151_200  401_450  test_answers.csv\n",
            "201_250  451_475  test.csv\n"
          ],
          "name": "stdout"
        }
      ]
    },
    {
      "metadata": {
        "id": "5u4XI_80WUBx",
        "colab_type": "code",
        "colab": {
          "base_uri": "https://localhost:8080/",
          "height": 340
        },
        "outputId": "3fda2fb2-528d-41fa-99c0-7fc65482be42"
      },
      "cell_type": "code",
      "source": [
        "y_tt = pd.read_csv('test_answers.csv')\n",
        "print(y_tt.head())\n",
        "print(\"SIZE - \",y_tt.shape)\n",
        "y_tt.drop(['Usage'],inplace = True, axis=1)\n",
        "y_test = y_tt.loc[y_tt.index.repeat(4)].reset_index(drop=True)\n",
        "y_test.drop(['writer'],inplace = True, axis=1)\n",
        "print(y_test.shape)\n",
        "y_test.head()"
      ],
      "execution_count": 85,
      "outputs": [
        {
          "output_type": "stream",
          "text": [
            "   writer  male        Usage\n",
            "0     283     1  PrivateTest\n",
            "1     284     0   PublicTest\n",
            "2     285     0  PrivateTest\n",
            "3     286     0   PublicTest\n",
            "4     287     1   PublicTest\n",
            "SIZE -  (193, 3)\n",
            "(772, 1)\n"
          ],
          "name": "stdout"
        },
        {
          "output_type": "execute_result",
          "data": {
            "text/html": [
              "<div>\n",
              "<style scoped>\n",
              "    .dataframe tbody tr th:only-of-type {\n",
              "        vertical-align: middle;\n",
              "    }\n",
              "\n",
              "    .dataframe tbody tr th {\n",
              "        vertical-align: top;\n",
              "    }\n",
              "\n",
              "    .dataframe thead th {\n",
              "        text-align: right;\n",
              "    }\n",
              "</style>\n",
              "<table border=\"1\" class=\"dataframe\">\n",
              "  <thead>\n",
              "    <tr style=\"text-align: right;\">\n",
              "      <th></th>\n",
              "      <th>male</th>\n",
              "    </tr>\n",
              "  </thead>\n",
              "  <tbody>\n",
              "    <tr>\n",
              "      <th>0</th>\n",
              "      <td>1</td>\n",
              "    </tr>\n",
              "    <tr>\n",
              "      <th>1</th>\n",
              "      <td>1</td>\n",
              "    </tr>\n",
              "    <tr>\n",
              "      <th>2</th>\n",
              "      <td>1</td>\n",
              "    </tr>\n",
              "    <tr>\n",
              "      <th>3</th>\n",
              "      <td>1</td>\n",
              "    </tr>\n",
              "    <tr>\n",
              "      <th>4</th>\n",
              "      <td>0</td>\n",
              "    </tr>\n",
              "  </tbody>\n",
              "</table>\n",
              "</div>"
            ],
            "text/plain": [
              "   male\n",
              "0     1\n",
              "1     1\n",
              "2     1\n",
              "3     1\n",
              "4     0"
            ]
          },
          "metadata": {
            "tags": []
          },
          "execution_count": 85
        }
      ]
    },
    {
      "metadata": {
        "id": "oxMdzr97XLl1",
        "colab_type": "code",
        "colab": {
          "base_uri": "https://localhost:8080/",
          "height": 442
        },
        "outputId": "7894f0a3-aabd-423b-a1d9-8454e5860d0c"
      },
      "cell_type": "code",
      "source": [
        "y_t = pd.read_csv('train_answers.csv')\n",
        "# print(y_train.head())\n",
        "print(y_t.shape)\n",
        "print(y_t.head())\n",
        "y_train = y_t.loc[y_t.index.repeat(4)].reset_index(drop=True)\n",
        "print(y_train.shape)\n",
        "print(y_train.head())\n",
        "y_train.drop(['writer'],inplace = True, axis=1)\n",
        "# y_train.shape\n",
        "y_train.head()"
      ],
      "execution_count": 86,
      "outputs": [
        {
          "output_type": "stream",
          "text": [
            "(282, 2)\n",
            "   writer  male\n",
            "0       1     0\n",
            "1       2     0\n",
            "2       3     0\n",
            "3       4     0\n",
            "4       5     1\n",
            "(1128, 2)\n",
            "   writer  male\n",
            "0       1     0\n",
            "1       1     0\n",
            "2       1     0\n",
            "3       1     0\n",
            "4       2     0\n"
          ],
          "name": "stdout"
        },
        {
          "output_type": "execute_result",
          "data": {
            "text/html": [
              "<div>\n",
              "<style scoped>\n",
              "    .dataframe tbody tr th:only-of-type {\n",
              "        vertical-align: middle;\n",
              "    }\n",
              "\n",
              "    .dataframe tbody tr th {\n",
              "        vertical-align: top;\n",
              "    }\n",
              "\n",
              "    .dataframe thead th {\n",
              "        text-align: right;\n",
              "    }\n",
              "</style>\n",
              "<table border=\"1\" class=\"dataframe\">\n",
              "  <thead>\n",
              "    <tr style=\"text-align: right;\">\n",
              "      <th></th>\n",
              "      <th>male</th>\n",
              "    </tr>\n",
              "  </thead>\n",
              "  <tbody>\n",
              "    <tr>\n",
              "      <th>0</th>\n",
              "      <td>0</td>\n",
              "    </tr>\n",
              "    <tr>\n",
              "      <th>1</th>\n",
              "      <td>0</td>\n",
              "    </tr>\n",
              "    <tr>\n",
              "      <th>2</th>\n",
              "      <td>0</td>\n",
              "    </tr>\n",
              "    <tr>\n",
              "      <th>3</th>\n",
              "      <td>0</td>\n",
              "    </tr>\n",
              "    <tr>\n",
              "      <th>4</th>\n",
              "      <td>0</td>\n",
              "    </tr>\n",
              "  </tbody>\n",
              "</table>\n",
              "</div>"
            ],
            "text/plain": [
              "   male\n",
              "0     0\n",
              "1     0\n",
              "2     0\n",
              "3     0\n",
              "4     0"
            ]
          },
          "metadata": {
            "tags": []
          },
          "execution_count": 86
        }
      ]
    },
    {
      "metadata": {
        "id": "BzM0By9-0qsG",
        "colab_type": "code",
        "colab": {
          "base_uri": "https://localhost:8080/",
          "height": 34
        },
        "outputId": "6004d6b4-3d2b-4ad0-9099-2151698b403d"
      },
      "cell_type": "code",
      "source": [
        "x_train = pd.read_csv('train.csv')\n",
        "x_train.drop(['language'],inplace = True, axis=1)\n",
        "x_train.drop(['writer','same_text','page_id'],inplace = True, axis=1)\n",
        "x_train.shape\n"
      ],
      "execution_count": 87,
      "outputs": [
        {
          "output_type": "execute_result",
          "data": {
            "text/plain": [
              "(1128, 7066)"
            ]
          },
          "metadata": {
            "tags": []
          },
          "execution_count": 87
        }
      ]
    },
    {
      "metadata": {
        "id": "gTQlO_nT1YQe",
        "colab_type": "code",
        "colab": {
          "base_uri": "https://localhost:8080/",
          "height": 253
        },
        "outputId": "0ed5cfd1-924a-46d6-cda5-a5bbdb4fd1da"
      },
      "cell_type": "code",
      "source": [
        "x_train.head()"
      ],
      "execution_count": 88,
      "outputs": [
        {
          "output_type": "execute_result",
          "data": {
            "text/html": [
              "<div>\n",
              "<style scoped>\n",
              "    .dataframe tbody tr th:only-of-type {\n",
              "        vertical-align: middle;\n",
              "    }\n",
              "\n",
              "    .dataframe tbody tr th {\n",
              "        vertical-align: top;\n",
              "    }\n",
              "\n",
              "    .dataframe thead th {\n",
              "        text-align: right;\n",
              "    }\n",
              "</style>\n",
              "<table border=\"1\" class=\"dataframe\">\n",
              "  <thead>\n",
              "    <tr style=\"text-align: right;\">\n",
              "      <th></th>\n",
              "      <th>tortuosityHist10[0]</th>\n",
              "      <th>tortuosityHist10[1]</th>\n",
              "      <th>tortuosityHist10[2]</th>\n",
              "      <th>tortuosityHist10[3]</th>\n",
              "      <th>tortuosityHist10[4]</th>\n",
              "      <th>tortuosityHist10[5]</th>\n",
              "      <th>tortuosityHist10[6]</th>\n",
              "      <th>tortuosityHist10[7]</th>\n",
              "      <th>tortuosityHist10[8]</th>\n",
              "      <th>tortuosityHist10[9]</th>\n",
              "      <th>...</th>\n",
              "      <th>directions_hist1a2a3a4a5a6a7a8a9a10_220[210]</th>\n",
              "      <th>directions_hist1a2a3a4a5a6a7a8a9a10_220[211]</th>\n",
              "      <th>directions_hist1a2a3a4a5a6a7a8a9a10_220[212]</th>\n",
              "      <th>directions_hist1a2a3a4a5a6a7a8a9a10_220[213]</th>\n",
              "      <th>directions_hist1a2a3a4a5a6a7a8a9a10_220[214]</th>\n",
              "      <th>directions_hist1a2a3a4a5a6a7a8a9a10_220[215]</th>\n",
              "      <th>directions_hist1a2a3a4a5a6a7a8a9a10_220[216]</th>\n",
              "      <th>directions_hist1a2a3a4a5a6a7a8a9a10_220[217]</th>\n",
              "      <th>directions_hist1a2a3a4a5a6a7a8a9a10_220[218]</th>\n",
              "      <th>directions_hist1a2a3a4a5a6a7a8a9a10_220[219]</th>\n",
              "    </tr>\n",
              "  </thead>\n",
              "  <tbody>\n",
              "    <tr>\n",
              "      <th>0</th>\n",
              "      <td>1.0</td>\n",
              "      <td>0.0</td>\n",
              "      <td>0.0</td>\n",
              "      <td>0.0</td>\n",
              "      <td>0.0</td>\n",
              "      <td>0.0</td>\n",
              "      <td>0.0</td>\n",
              "      <td>0.0</td>\n",
              "      <td>0</td>\n",
              "      <td>0</td>\n",
              "      <td>...</td>\n",
              "      <td>0.002457</td>\n",
              "      <td>0.002633</td>\n",
              "      <td>0.002698</td>\n",
              "      <td>0.002929</td>\n",
              "      <td>0.003014</td>\n",
              "      <td>0.003225</td>\n",
              "      <td>0.003572</td>\n",
              "      <td>0.003957</td>\n",
              "      <td>0.004232</td>\n",
              "      <td>0.004804</td>\n",
              "    </tr>\n",
              "    <tr>\n",
              "      <th>1</th>\n",
              "      <td>1.0</td>\n",
              "      <td>0.0</td>\n",
              "      <td>0.0</td>\n",
              "      <td>0.0</td>\n",
              "      <td>0.0</td>\n",
              "      <td>0.0</td>\n",
              "      <td>0.0</td>\n",
              "      <td>0.0</td>\n",
              "      <td>0</td>\n",
              "      <td>0</td>\n",
              "      <td>...</td>\n",
              "      <td>0.002498</td>\n",
              "      <td>0.002641</td>\n",
              "      <td>0.002836</td>\n",
              "      <td>0.002999</td>\n",
              "      <td>0.003246</td>\n",
              "      <td>0.003456</td>\n",
              "      <td>0.003709</td>\n",
              "      <td>0.003994</td>\n",
              "      <td>0.004308</td>\n",
              "      <td>0.004706</td>\n",
              "    </tr>\n",
              "    <tr>\n",
              "      <th>2</th>\n",
              "      <td>1.0</td>\n",
              "      <td>0.0</td>\n",
              "      <td>0.0</td>\n",
              "      <td>0.0</td>\n",
              "      <td>0.0</td>\n",
              "      <td>0.0</td>\n",
              "      <td>0.0</td>\n",
              "      <td>0.0</td>\n",
              "      <td>0</td>\n",
              "      <td>0</td>\n",
              "      <td>...</td>\n",
              "      <td>0.002090</td>\n",
              "      <td>0.002440</td>\n",
              "      <td>0.002831</td>\n",
              "      <td>0.003078</td>\n",
              "      <td>0.003438</td>\n",
              "      <td>0.003732</td>\n",
              "      <td>0.004100</td>\n",
              "      <td>0.004329</td>\n",
              "      <td>0.004687</td>\n",
              "      <td>0.004879</td>\n",
              "    </tr>\n",
              "    <tr>\n",
              "      <th>3</th>\n",
              "      <td>1.0</td>\n",
              "      <td>0.0</td>\n",
              "      <td>0.0</td>\n",
              "      <td>0.0</td>\n",
              "      <td>0.0</td>\n",
              "      <td>0.0</td>\n",
              "      <td>0.0</td>\n",
              "      <td>0.0</td>\n",
              "      <td>0</td>\n",
              "      <td>0</td>\n",
              "      <td>...</td>\n",
              "      <td>0.002435</td>\n",
              "      <td>0.002823</td>\n",
              "      <td>0.003117</td>\n",
              "      <td>0.003441</td>\n",
              "      <td>0.003788</td>\n",
              "      <td>0.004056</td>\n",
              "      <td>0.004285</td>\n",
              "      <td>0.004527</td>\n",
              "      <td>0.004843</td>\n",
              "      <td>0.005085</td>\n",
              "    </tr>\n",
              "    <tr>\n",
              "      <th>4</th>\n",
              "      <td>1.0</td>\n",
              "      <td>0.0</td>\n",
              "      <td>0.0</td>\n",
              "      <td>0.0</td>\n",
              "      <td>0.0</td>\n",
              "      <td>0.0</td>\n",
              "      <td>0.0</td>\n",
              "      <td>0.0</td>\n",
              "      <td>0</td>\n",
              "      <td>0</td>\n",
              "      <td>...</td>\n",
              "      <td>0.002465</td>\n",
              "      <td>0.002724</td>\n",
              "      <td>0.003079</td>\n",
              "      <td>0.003305</td>\n",
              "      <td>0.003425</td>\n",
              "      <td>0.003403</td>\n",
              "      <td>0.003450</td>\n",
              "      <td>0.003626</td>\n",
              "      <td>0.003977</td>\n",
              "      <td>0.004547</td>\n",
              "    </tr>\n",
              "  </tbody>\n",
              "</table>\n",
              "<p>5 rows × 7066 columns</p>\n",
              "</div>"
            ],
            "text/plain": [
              "   tortuosityHist10[0]  tortuosityHist10[1]  tortuosityHist10[2]  \\\n",
              "0                  1.0                  0.0                  0.0   \n",
              "1                  1.0                  0.0                  0.0   \n",
              "2                  1.0                  0.0                  0.0   \n",
              "3                  1.0                  0.0                  0.0   \n",
              "4                  1.0                  0.0                  0.0   \n",
              "\n",
              "   tortuosityHist10[3]  tortuosityHist10[4]  tortuosityHist10[5]  \\\n",
              "0                  0.0                  0.0                  0.0   \n",
              "1                  0.0                  0.0                  0.0   \n",
              "2                  0.0                  0.0                  0.0   \n",
              "3                  0.0                  0.0                  0.0   \n",
              "4                  0.0                  0.0                  0.0   \n",
              "\n",
              "   tortuosityHist10[6]  tortuosityHist10[7]  tortuosityHist10[8]  \\\n",
              "0                  0.0                  0.0                    0   \n",
              "1                  0.0                  0.0                    0   \n",
              "2                  0.0                  0.0                    0   \n",
              "3                  0.0                  0.0                    0   \n",
              "4                  0.0                  0.0                    0   \n",
              "\n",
              "   tortuosityHist10[9]                      ...                       \\\n",
              "0                    0                      ...                        \n",
              "1                    0                      ...                        \n",
              "2                    0                      ...                        \n",
              "3                    0                      ...                        \n",
              "4                    0                      ...                        \n",
              "\n",
              "   directions_hist1a2a3a4a5a6a7a8a9a10_220[210]  \\\n",
              "0                                      0.002457   \n",
              "1                                      0.002498   \n",
              "2                                      0.002090   \n",
              "3                                      0.002435   \n",
              "4                                      0.002465   \n",
              "\n",
              "   directions_hist1a2a3a4a5a6a7a8a9a10_220[211]  \\\n",
              "0                                      0.002633   \n",
              "1                                      0.002641   \n",
              "2                                      0.002440   \n",
              "3                                      0.002823   \n",
              "4                                      0.002724   \n",
              "\n",
              "   directions_hist1a2a3a4a5a6a7a8a9a10_220[212]  \\\n",
              "0                                      0.002698   \n",
              "1                                      0.002836   \n",
              "2                                      0.002831   \n",
              "3                                      0.003117   \n",
              "4                                      0.003079   \n",
              "\n",
              "   directions_hist1a2a3a4a5a6a7a8a9a10_220[213]  \\\n",
              "0                                      0.002929   \n",
              "1                                      0.002999   \n",
              "2                                      0.003078   \n",
              "3                                      0.003441   \n",
              "4                                      0.003305   \n",
              "\n",
              "   directions_hist1a2a3a4a5a6a7a8a9a10_220[214]  \\\n",
              "0                                      0.003014   \n",
              "1                                      0.003246   \n",
              "2                                      0.003438   \n",
              "3                                      0.003788   \n",
              "4                                      0.003425   \n",
              "\n",
              "   directions_hist1a2a3a4a5a6a7a8a9a10_220[215]  \\\n",
              "0                                      0.003225   \n",
              "1                                      0.003456   \n",
              "2                                      0.003732   \n",
              "3                                      0.004056   \n",
              "4                                      0.003403   \n",
              "\n",
              "   directions_hist1a2a3a4a5a6a7a8a9a10_220[216]  \\\n",
              "0                                      0.003572   \n",
              "1                                      0.003709   \n",
              "2                                      0.004100   \n",
              "3                                      0.004285   \n",
              "4                                      0.003450   \n",
              "\n",
              "   directions_hist1a2a3a4a5a6a7a8a9a10_220[217]  \\\n",
              "0                                      0.003957   \n",
              "1                                      0.003994   \n",
              "2                                      0.004329   \n",
              "3                                      0.004527   \n",
              "4                                      0.003626   \n",
              "\n",
              "   directions_hist1a2a3a4a5a6a7a8a9a10_220[218]  \\\n",
              "0                                      0.004232   \n",
              "1                                      0.004308   \n",
              "2                                      0.004687   \n",
              "3                                      0.004843   \n",
              "4                                      0.003977   \n",
              "\n",
              "   directions_hist1a2a3a4a5a6a7a8a9a10_220[219]  \n",
              "0                                      0.004804  \n",
              "1                                      0.004706  \n",
              "2                                      0.004879  \n",
              "3                                      0.005085  \n",
              "4                                      0.004547  \n",
              "\n",
              "[5 rows x 7066 columns]"
            ]
          },
          "metadata": {
            "tags": []
          },
          "execution_count": 88
        }
      ]
    },
    {
      "metadata": {
        "id": "qylURHMU0-SE",
        "colab_type": "code",
        "colab": {
          "base_uri": "https://localhost:8080/",
          "height": 34
        },
        "outputId": "5bceea10-ca71-4592-f193-3cbcc75e37bf"
      },
      "cell_type": "code",
      "source": [
        "x_test = pd.read_csv('test.csv')\n",
        "x_test.drop(['language'],inplace = True, axis=1)\n",
        "x_test.drop(['writer','same_text','page_id'],inplace = True, axis=1)\n",
        "x_test.shape"
      ],
      "execution_count": 89,
      "outputs": [
        {
          "output_type": "execute_result",
          "data": {
            "text/plain": [
              "(772, 7066)"
            ]
          },
          "metadata": {
            "tags": []
          },
          "execution_count": 89
        }
      ]
    },
    {
      "metadata": {
        "id": "Tvy622uq1F8W",
        "colab_type": "code",
        "colab": {
          "base_uri": "https://localhost:8080/",
          "height": 253
        },
        "outputId": "614cf20c-5acd-4414-f215-bb41e6266bef"
      },
      "cell_type": "code",
      "source": [
        "x_test.head()"
      ],
      "execution_count": 90,
      "outputs": [
        {
          "output_type": "execute_result",
          "data": {
            "text/html": [
              "<div>\n",
              "<style scoped>\n",
              "    .dataframe tbody tr th:only-of-type {\n",
              "        vertical-align: middle;\n",
              "    }\n",
              "\n",
              "    .dataframe tbody tr th {\n",
              "        vertical-align: top;\n",
              "    }\n",
              "\n",
              "    .dataframe thead th {\n",
              "        text-align: right;\n",
              "    }\n",
              "</style>\n",
              "<table border=\"1\" class=\"dataframe\">\n",
              "  <thead>\n",
              "    <tr style=\"text-align: right;\">\n",
              "      <th></th>\n",
              "      <th>tortuosityHist10[0]</th>\n",
              "      <th>tortuosityHist10[1]</th>\n",
              "      <th>tortuosityHist10[2]</th>\n",
              "      <th>tortuosityHist10[3]</th>\n",
              "      <th>tortuosityHist10[4]</th>\n",
              "      <th>tortuosityHist10[5]</th>\n",
              "      <th>tortuosityHist10[6]</th>\n",
              "      <th>tortuosityHist10[7]</th>\n",
              "      <th>tortuosityHist10[8]</th>\n",
              "      <th>tortuosityHist10[9]</th>\n",
              "      <th>...</th>\n",
              "      <th>directions_hist1a2a3a4a5a6a7a8a9a10_220[210]</th>\n",
              "      <th>directions_hist1a2a3a4a5a6a7a8a9a10_220[211]</th>\n",
              "      <th>directions_hist1a2a3a4a5a6a7a8a9a10_220[212]</th>\n",
              "      <th>directions_hist1a2a3a4a5a6a7a8a9a10_220[213]</th>\n",
              "      <th>directions_hist1a2a3a4a5a6a7a8a9a10_220[214]</th>\n",
              "      <th>directions_hist1a2a3a4a5a6a7a8a9a10_220[215]</th>\n",
              "      <th>directions_hist1a2a3a4a5a6a7a8a9a10_220[216]</th>\n",
              "      <th>directions_hist1a2a3a4a5a6a7a8a9a10_220[217]</th>\n",
              "      <th>directions_hist1a2a3a4a5a6a7a8a9a10_220[218]</th>\n",
              "      <th>directions_hist1a2a3a4a5a6a7a8a9a10_220[219]</th>\n",
              "    </tr>\n",
              "  </thead>\n",
              "  <tbody>\n",
              "    <tr>\n",
              "      <th>0</th>\n",
              "      <td>1.000000</td>\n",
              "      <td>0.000000</td>\n",
              "      <td>0.0</td>\n",
              "      <td>0.0</td>\n",
              "      <td>0.0</td>\n",
              "      <td>0.0</td>\n",
              "      <td>0.0</td>\n",
              "      <td>0.0</td>\n",
              "      <td>0.0</td>\n",
              "      <td>0</td>\n",
              "      <td>...</td>\n",
              "      <td>0.002271</td>\n",
              "      <td>0.002299</td>\n",
              "      <td>0.002386</td>\n",
              "      <td>0.002502</td>\n",
              "      <td>0.002622</td>\n",
              "      <td>0.002738</td>\n",
              "      <td>0.002817</td>\n",
              "      <td>0.002870</td>\n",
              "      <td>0.003048</td>\n",
              "      <td>0.003381</td>\n",
              "    </tr>\n",
              "    <tr>\n",
              "      <th>1</th>\n",
              "      <td>0.994351</td>\n",
              "      <td>0.005649</td>\n",
              "      <td>0.0</td>\n",
              "      <td>0.0</td>\n",
              "      <td>0.0</td>\n",
              "      <td>0.0</td>\n",
              "      <td>0.0</td>\n",
              "      <td>0.0</td>\n",
              "      <td>0.0</td>\n",
              "      <td>0</td>\n",
              "      <td>...</td>\n",
              "      <td>0.002387</td>\n",
              "      <td>0.002451</td>\n",
              "      <td>0.002527</td>\n",
              "      <td>0.002613</td>\n",
              "      <td>0.002675</td>\n",
              "      <td>0.002746</td>\n",
              "      <td>0.002889</td>\n",
              "      <td>0.002945</td>\n",
              "      <td>0.003114</td>\n",
              "      <td>0.003291</td>\n",
              "    </tr>\n",
              "    <tr>\n",
              "      <th>2</th>\n",
              "      <td>1.000000</td>\n",
              "      <td>0.000000</td>\n",
              "      <td>0.0</td>\n",
              "      <td>0.0</td>\n",
              "      <td>0.0</td>\n",
              "      <td>0.0</td>\n",
              "      <td>0.0</td>\n",
              "      <td>0.0</td>\n",
              "      <td>0.0</td>\n",
              "      <td>0</td>\n",
              "      <td>...</td>\n",
              "      <td>0.002395</td>\n",
              "      <td>0.002636</td>\n",
              "      <td>0.002865</td>\n",
              "      <td>0.003035</td>\n",
              "      <td>0.003215</td>\n",
              "      <td>0.003402</td>\n",
              "      <td>0.003730</td>\n",
              "      <td>0.003870</td>\n",
              "      <td>0.004187</td>\n",
              "      <td>0.004385</td>\n",
              "    </tr>\n",
              "    <tr>\n",
              "      <th>3</th>\n",
              "      <td>1.000000</td>\n",
              "      <td>0.000000</td>\n",
              "      <td>0.0</td>\n",
              "      <td>0.0</td>\n",
              "      <td>0.0</td>\n",
              "      <td>0.0</td>\n",
              "      <td>0.0</td>\n",
              "      <td>0.0</td>\n",
              "      <td>0.0</td>\n",
              "      <td>0</td>\n",
              "      <td>...</td>\n",
              "      <td>0.002341</td>\n",
              "      <td>0.002563</td>\n",
              "      <td>0.002840</td>\n",
              "      <td>0.003072</td>\n",
              "      <td>0.003387</td>\n",
              "      <td>0.003650</td>\n",
              "      <td>0.003881</td>\n",
              "      <td>0.004138</td>\n",
              "      <td>0.004435</td>\n",
              "      <td>0.004678</td>\n",
              "    </tr>\n",
              "    <tr>\n",
              "      <th>4</th>\n",
              "      <td>1.000000</td>\n",
              "      <td>0.000000</td>\n",
              "      <td>0.0</td>\n",
              "      <td>0.0</td>\n",
              "      <td>0.0</td>\n",
              "      <td>0.0</td>\n",
              "      <td>0.0</td>\n",
              "      <td>0.0</td>\n",
              "      <td>0.0</td>\n",
              "      <td>0</td>\n",
              "      <td>...</td>\n",
              "      <td>0.002134</td>\n",
              "      <td>0.002426</td>\n",
              "      <td>0.002851</td>\n",
              "      <td>0.003184</td>\n",
              "      <td>0.003554</td>\n",
              "      <td>0.003918</td>\n",
              "      <td>0.004146</td>\n",
              "      <td>0.004530</td>\n",
              "      <td>0.004865</td>\n",
              "      <td>0.005171</td>\n",
              "    </tr>\n",
              "  </tbody>\n",
              "</table>\n",
              "<p>5 rows × 7066 columns</p>\n",
              "</div>"
            ],
            "text/plain": [
              "   tortuosityHist10[0]  tortuosityHist10[1]  tortuosityHist10[2]  \\\n",
              "0             1.000000             0.000000                  0.0   \n",
              "1             0.994351             0.005649                  0.0   \n",
              "2             1.000000             0.000000                  0.0   \n",
              "3             1.000000             0.000000                  0.0   \n",
              "4             1.000000             0.000000                  0.0   \n",
              "\n",
              "   tortuosityHist10[3]  tortuosityHist10[4]  tortuosityHist10[5]  \\\n",
              "0                  0.0                  0.0                  0.0   \n",
              "1                  0.0                  0.0                  0.0   \n",
              "2                  0.0                  0.0                  0.0   \n",
              "3                  0.0                  0.0                  0.0   \n",
              "4                  0.0                  0.0                  0.0   \n",
              "\n",
              "   tortuosityHist10[6]  tortuosityHist10[7]  tortuosityHist10[8]  \\\n",
              "0                  0.0                  0.0                  0.0   \n",
              "1                  0.0                  0.0                  0.0   \n",
              "2                  0.0                  0.0                  0.0   \n",
              "3                  0.0                  0.0                  0.0   \n",
              "4                  0.0                  0.0                  0.0   \n",
              "\n",
              "   tortuosityHist10[9]                      ...                       \\\n",
              "0                    0                      ...                        \n",
              "1                    0                      ...                        \n",
              "2                    0                      ...                        \n",
              "3                    0                      ...                        \n",
              "4                    0                      ...                        \n",
              "\n",
              "   directions_hist1a2a3a4a5a6a7a8a9a10_220[210]  \\\n",
              "0                                      0.002271   \n",
              "1                                      0.002387   \n",
              "2                                      0.002395   \n",
              "3                                      0.002341   \n",
              "4                                      0.002134   \n",
              "\n",
              "   directions_hist1a2a3a4a5a6a7a8a9a10_220[211]  \\\n",
              "0                                      0.002299   \n",
              "1                                      0.002451   \n",
              "2                                      0.002636   \n",
              "3                                      0.002563   \n",
              "4                                      0.002426   \n",
              "\n",
              "   directions_hist1a2a3a4a5a6a7a8a9a10_220[212]  \\\n",
              "0                                      0.002386   \n",
              "1                                      0.002527   \n",
              "2                                      0.002865   \n",
              "3                                      0.002840   \n",
              "4                                      0.002851   \n",
              "\n",
              "   directions_hist1a2a3a4a5a6a7a8a9a10_220[213]  \\\n",
              "0                                      0.002502   \n",
              "1                                      0.002613   \n",
              "2                                      0.003035   \n",
              "3                                      0.003072   \n",
              "4                                      0.003184   \n",
              "\n",
              "   directions_hist1a2a3a4a5a6a7a8a9a10_220[214]  \\\n",
              "0                                      0.002622   \n",
              "1                                      0.002675   \n",
              "2                                      0.003215   \n",
              "3                                      0.003387   \n",
              "4                                      0.003554   \n",
              "\n",
              "   directions_hist1a2a3a4a5a6a7a8a9a10_220[215]  \\\n",
              "0                                      0.002738   \n",
              "1                                      0.002746   \n",
              "2                                      0.003402   \n",
              "3                                      0.003650   \n",
              "4                                      0.003918   \n",
              "\n",
              "   directions_hist1a2a3a4a5a6a7a8a9a10_220[216]  \\\n",
              "0                                      0.002817   \n",
              "1                                      0.002889   \n",
              "2                                      0.003730   \n",
              "3                                      0.003881   \n",
              "4                                      0.004146   \n",
              "\n",
              "   directions_hist1a2a3a4a5a6a7a8a9a10_220[217]  \\\n",
              "0                                      0.002870   \n",
              "1                                      0.002945   \n",
              "2                                      0.003870   \n",
              "3                                      0.004138   \n",
              "4                                      0.004530   \n",
              "\n",
              "   directions_hist1a2a3a4a5a6a7a8a9a10_220[218]  \\\n",
              "0                                      0.003048   \n",
              "1                                      0.003114   \n",
              "2                                      0.004187   \n",
              "3                                      0.004435   \n",
              "4                                      0.004865   \n",
              "\n",
              "   directions_hist1a2a3a4a5a6a7a8a9a10_220[219]  \n",
              "0                                      0.003381  \n",
              "1                                      0.003291  \n",
              "2                                      0.004385  \n",
              "3                                      0.004678  \n",
              "4                                      0.005171  \n",
              "\n",
              "[5 rows x 7066 columns]"
            ]
          },
          "metadata": {
            "tags": []
          },
          "execution_count": 90
        }
      ]
    },
    {
      "metadata": {
        "id": "mJu73buN8Kah",
        "colab_type": "code",
        "colab": {
          "base_uri": "https://localhost:8080/",
          "height": 51
        },
        "outputId": "30303c6e-3c26-4271-a2f4-ef7009e5b8f6"
      },
      "cell_type": "code",
      "source": [
        "x_train = x_train.values\n",
        "y_train = y_train.values\n",
        "y_train = y_train.ravel()\n",
        "y_train = np.array(y_train).astype(int)\n",
        "x_train = np.array(x_train).astype(float)\n",
        "print(y_train.shape,x_train.shape)\n",
        "print(np.dtype(x_train[0][0]))"
      ],
      "execution_count": 92,
      "outputs": [
        {
          "output_type": "stream",
          "text": [
            "(1128,) (1128, 7066)\n",
            "float64\n"
          ],
          "name": "stdout"
        }
      ]
    },
    {
      "metadata": {
        "id": "bdz7VkuxAP_j",
        "colab_type": "code",
        "colab": {}
      },
      "cell_type": "code",
      "source": [
        "y_test = y_test.values\n",
        "x_test = x_test.values"
      ],
      "execution_count": 0,
      "outputs": []
    },
    {
      "metadata": {
        "id": "js3bArwZTsaZ",
        "colab_type": "code",
        "colab": {
          "base_uri": "https://localhost:8080/",
          "height": 34
        },
        "outputId": "21b1f14c-93e0-4446-a470-231c9ace8156"
      },
      "cell_type": "code",
      "source": [
        "clf = svm.SVC(kernel='rbf')\n",
        "clf.fit(x_train,y_train)\n",
        "pred = clf.predict(x_test)\n",
        "accuracy = accuracy_score(y_test, pred)\n",
        "print(\"accuracy: \",accuracy)"
      ],
      "execution_count": 96,
      "outputs": [
        {
          "output_type": "stream",
          "text": [
            "accuracy:  0.5751295336787565\n"
          ],
          "name": "stdout"
        }
      ]
    },
    {
      "metadata": {
        "id": "prlw8nJe61Z1",
        "colab_type": "code",
        "colab": {}
      },
      "cell_type": "code",
      "source": [
        "from sklearn.decomposition import PCA\n"
      ],
      "execution_count": 0,
      "outputs": []
    }
  ]
}